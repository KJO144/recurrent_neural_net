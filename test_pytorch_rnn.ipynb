{
 "cells": [
  {
   "cell_type": "code",
   "execution_count": 1,
   "metadata": {},
   "outputs": [],
   "source": [
    "import torch\n",
    "import numpy as np\n",
    "from simple_RNN import *"
   ]
  },
  {
   "cell_type": "markdown",
   "metadata": {},
   "source": [
    "### Set some parameters.\n",
    "Seq length is the number of time periods of the sequence we pass in. Hidden size is the number of units in the hidden layer.\n"
   ]
  },
  {
   "cell_type": "code",
   "execution_count": 2,
   "metadata": {},
   "outputs": [],
   "source": [
    "seq_length = 10\n",
    "num_batches = 1\n",
    "hidden_size = 3"
   ]
  },
  {
   "cell_type": "markdown",
   "metadata": {},
   "source": [
    "### Load some data\n",
    "\n",
    "Shape should be (seq_length, vocab_size). Each character is a one-hot vector."
   ]
  },
  {
   "cell_type": "code",
   "execution_count": 3,
   "metadata": {},
   "outputs": [],
   "source": [
    "filename = 'input.txt'\n",
    "data_raw = open(filename, 'r').read() # should be simple plain text file\n",
    "data_raw = data_raw.lower()\n",
    "\n",
    "data, vocab_size, idx_to_char = data_from_text(data_raw)\n",
    "data = np.eye(vocab_size)[data]\n",
    "print( 'Data shape: ', data.shape)"
   ]
  },
  {
   "cell_type": "markdown",
   "metadata": {},
   "source": [
    "### Initialize the parameters and the hidden state"
   ]
  },
  {
   "cell_type": "code",
   "execution_count": 4,
   "metadata": {},
   "outputs": [],
   "source": [
    "params = initialize_parameters(hidden_size, vocab_size)\n",
    "h_prev = np.zeros(hidden_size)"
   ]
  },
  {
   "cell_type": "markdown",
   "metadata": {},
   "source": [
    "### Calculate the output h using my custom code\n",
    "\n",
    "h is the output activation for each time step *before* any outupt layer is applied"
   ]
  },
  {
   "cell_type": "code",
   "execution_count": 5,
   "metadata": {},
   "outputs": [],
   "source": [
    "h = rnn_forward(data, params, h_prev)\n",
    "print( 'h shape: ', h.shape)"
   ]
  },
  {
   "cell_type": "markdown",
   "metadata": {},
   "source": [
    "### Use torch's RNN object to calculate the same thing\n",
    "\n",
    "It requires the inputs to be a tensor with shape (seq_length, batch_num, vocab_size)"
   ]
  },
  {
   "cell_type": "code",
   "execution_count": 6,
   "metadata": {},
   "outputs": [],
   "source": [
    "rnn = torch.nn.RNN(input_size=vocab_size,hidden_size=hidden_size)\n",
    "dtype = torch.float\n",
    "\n",
    "# set the weight tensors\n",
    "rnn.bias_ih_l0.data.fill_(0)\n",
    "rnn.weight_hh_l0.data = torch.tensor(params['W'], dtype=dtype)\n",
    "rnn.weight_ih_l0.data = torch.tensor(params['U'], dtype=dtype)\n",
    "rnn.bias_hh_l0.data = torch.tensor(params['bh'], dtype=dtype)\n",
    "\n",
    "inputs = data.reshape((len(data), 1, vocab_size))\n",
    "inputs = torch.tensor(inputs, dtype=dtype)\n",
    "h_prev_torch = torch.tensor(h_prev.reshape((1,1,hidden_size)), dtype=dtype)\n",
    "\n",
    "h_pytorch, _ = rnn(inputs, h_prev_torch)\n",
    "print( 'h_pytorch shape: ', h_pytorch.shape)"
   ]
  },
  {
   "cell_type": "markdown",
   "metadata": {},
   "source": [
    "### Verify that we get the same result"
   ]
  },
  {
   "cell_type": "code",
   "execution_count": 7,
   "metadata": {},
   "outputs": [],
   "source": [
    "np.testing.assert_array_almost_equal( h_pytorch.data.numpy()[:,0,:], h)"
   ]
  }
 ],
 "metadata": {
  "kernelspec": {
   "display_name": "Python 3",
   "language": "python",
   "name": "python3"
  },
  "language_info": {
   "codemirror_mode": {
    "name": "ipython",
    "version": 3
   },
   "file_extension": ".py",
   "mimetype": "text/x-python",
   "name": "python",
   "nbconvert_exporter": "python",
   "pygments_lexer": "ipython3",
   "version": "3.6.8"
  }
 },
 "nbformat": 4,
 "nbformat_minor": 2
}
