{
 "cells": [
  {
   "cell_type": "code",
   "execution_count": 1,
   "metadata": {},
   "outputs": [],
   "source": [
    "import torch\n",
    "import numpy as np\n",
    "from simple_RNN import *"
   ]
  },
  {
   "cell_type": "markdown",
   "metadata": {},
   "source": [
    "### Set some parameters.\n",
    "Seq length is the number of time periods of the sequence we pass in. Hidden size is the number of units in the hidden layer.\n"
   ]
  },
  {
   "cell_type": "code",
   "execution_count": 2,
   "metadata": {},
   "outputs": [],
   "source": [
    "seq_length = 10\n",
    "num_batches = 1\n",
    "hidden_size = 3"
   ]
  },
  {
   "cell_type": "markdown",
   "metadata": {},
   "source": [
    "### Load some data\n"
   ]
  },
  {
   "cell_type": "code",
   "execution_count": 3,
   "metadata": {},
   "outputs": [
    {
     "name": "stdout",
     "output_type": "stream",
     "text": [
      "Data has length 454 and consist of 12 unique characters.\n",
      "Data shape:  (454, 12)\n"
     ]
    }
   ],
   "source": [
    "#Shape should be (seq_length, vocab_size). Each character is a one-hot vector.\n",
    "\n",
    "filename = 'input.txt'\n",
    "data_raw = open(filename, 'r').read() # should be simple plain text file\n",
    "data_raw = data_raw.lower()\n",
    "\n",
    "data, vocab_size, idx_to_char = data_from_text(data_raw)\n",
    "data = np.eye(vocab_size)[data]\n",
    "print( 'Data shape: ', data.shape)\n"
   ]
  },
  {
   "cell_type": "markdown",
   "metadata": {},
   "source": [
    "### Initialize the parameters and the hidden state"
   ]
  },
  {
   "cell_type": "code",
   "execution_count": 4,
   "metadata": {},
   "outputs": [],
   "source": [
    "params = initialize_parameters_lstm(hidden_size, vocab_size)\n",
    "h_prev = np.zeros(hidden_size)\n",
    "c_prev = np.zeros(hidden_size)"
   ]
  },
  {
   "cell_type": "markdown",
   "metadata": {},
   "source": [
    "### Calculate the outputs h and c using my custom code\n",
    "\n",
    "h is the output activation for each time step before any outupt layer is applied. c is the corresponding 'cell state'.\n"
   ]
  },
  {
   "cell_type": "code",
   "execution_count": 5,
   "metadata": {},
   "outputs": [
    {
     "name": "stdout",
     "output_type": "stream",
     "text": [
      "h shape:  (454, 3)\n",
      "c shape:  (454, 3)\n"
     ]
    }
   ],
   "source": [
    "h, c = lstm_forward(data, params, h_prev, c_prev)\n",
    "print( 'h shape: ', h.shape)\n",
    "print( 'c shape: ', c.shape)"
   ]
  },
  {
   "cell_type": "markdown",
   "metadata": {},
   "source": [
    "### Use torch's LSTM object to calculate the same thing\n",
    "\n",
    "It requires the inputs to be a tensor with shape (seq_length, batch_num, vocab_size)"
   ]
  },
  {
   "cell_type": "code",
   "execution_count": 6,
   "metadata": {},
   "outputs": [
    {
     "name": "stdout",
     "output_type": "stream",
     "text": [
      "h_pytorch shape:  torch.Size([454, 1, 3])\n"
     ]
    }
   ],
   "source": [
    "lstm = torch.nn.LSTM(input_size=vocab_size,hidden_size=hidden_size)\n",
    "dtype = torch.float\n",
    "\n",
    "# # set the weight tensors\n",
    "weight_ih_l0 = np.concatenate([params['wix'], params['wfx'], params['wgx'], params['wox']])\n",
    "weight_hh_l0 = np.concatenate([params['wih'], params['wfh'], params['wgh'], params['woh']])\n",
    "bias_ih_l0   = np.concatenate([params['bi'], params['bf'], params['bg'], params['bo']])\n",
    "bias_hh_l0   = np.zeros_like(bias_ih_l0)\n",
    "lstm.weight_ih_l0.data = torch.tensor(weight_ih_l0, dtype=dtype)\n",
    "lstm.weight_hh_l0.data = torch.tensor(weight_hh_l0, dtype=dtype)\n",
    "lstm.bias_ih_l0.data = torch.tensor(bias_ih_l0, dtype=dtype)\n",
    "lstm.bias_hh_l0.data = torch.tensor(bias_hh_l0, dtype=dtype)\n",
    "\n",
    "inputs = data.reshape((len(data), 1, vocab_size))\n",
    "inputs = torch.tensor(inputs, dtype=dtype)\n",
    "h_prev_torch = torch.tensor(h_prev.reshape((1,1,hidden_size)), dtype=dtype)\n",
    "c_prev_torch = torch.tensor(c_prev.reshape((1,1,hidden_size)), dtype=dtype)\n",
    "\n",
    "h_pytorch, (_, c_pytorch) = lstm(inputs, (h_prev_torch, c_prev_torch))\n",
    "print( 'h_pytorch shape: ', h_pytorch.shape)\n"
   ]
  },
  {
   "cell_type": "markdown",
   "metadata": {},
   "source": [
    "### Verify that we get the same result"
   ]
  },
  {
   "cell_type": "code",
   "execution_count": 7,
   "metadata": {},
   "outputs": [],
   "source": [
    "np.testing.assert_array_almost_equal( h_pytorch.data.numpy()[:,0,:], h)\n",
    "\n",
    "np.testing.assert_array_almost_equal( c_pytorch.data.numpy()[0,0,:], c[len(data)-1])\n"
   ]
  }
 ],
 "metadata": {
  "kernelspec": {
   "display_name": "Python 3",
   "language": "python",
   "name": "python3"
  },
  "language_info": {
   "codemirror_mode": {
    "name": "ipython",
    "version": 3
   },
   "file_extension": ".py",
   "mimetype": "text/x-python",
   "name": "python",
   "nbconvert_exporter": "python",
   "pygments_lexer": "ipython3",
   "version": "3.6.8"
  }
 },
 "nbformat": 4,
 "nbformat_minor": 2
}
