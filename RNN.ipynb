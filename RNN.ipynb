{
 "cells": [
  {
   "cell_type": "code",
   "execution_count": 1,
   "metadata": {},
   "outputs": [],
   "source": [
    "import numpy as np\n",
    "from simple_RNN import *"
   ]
  },
  {
   "cell_type": "code",
   "execution_count": 2,
   "metadata": {},
   "outputs": [],
   "source": [
    "filename = 'input.txt'\n",
    "#filename = 'wodehouse_right_ho_jeeves.txt'\n",
    "data_raw = open(filename, 'r').read() # should be simple plain text file\n",
    "data_raw = data_raw.lower()\n",
    "\n",
    "#data_raw = open('input.txt', 'r').read()\n",
    "\n",
    "seq_length = 25 # this is how much of the data we sample before updating the params\n",
    "hidden_size = 50 # size of the hidden state vector\n",
    "learning_rate = 0.1\n",
    "num_epochs = 50\n"
   ]
  },
  {
   "cell_type": "code",
   "execution_count": 3,
   "metadata": {},
   "outputs": [],
   "source": [
    "seq_length = 25 # this is how much of the data we sample before updating the params\n",
    "hidden_size = 50 # size of the hidden state vector\n",
    "learning_rate = 0.1\n",
    "num_epochs = 50"
   ]
  },
  {
   "cell_type": "code",
   "execution_count": 18,
   "metadata": {
    "scrolled": false
   },
   "outputs": [
    {
     "name": "stdout",
     "output_type": "stream",
     "text": [
      "Data has length 454 and consist of 12 unique characters.\n"
     ]
    }
   ],
   "source": [
    "parameters, idx_to_char = train_rnn( data_raw, seq_length, hidden_size, learning_rate, num_epochs, verbose=False)\n"
   ]
  },
  {
   "cell_type": "code",
   "execution_count": 19,
   "metadata": {},
   "outputs": [
    {
     "data": {
      "text/plain": [
       "'my name is kemal. my name is kemal. my name is kemal. my name is kemal. my name is kemal. my name is'"
      ]
     },
     "execution_count": 19,
     "metadata": {},
     "output_type": "execute_result"
    }
   ],
   "source": [
    "h_prev = np.zeros((hidden_size,1))\n",
    "\n",
    "sample_indices = generate_sample(parameters, h_prev, 0, 100)\n",
    "sample = ''.join([idx_to_char[idx] for idx in sample_indices])\n",
    "sample\n"
   ]
  },
  {
   "cell_type": "code",
   "execution_count": 20,
   "metadata": {},
   "outputs": [
    {
     "data": {
      "text/plain": [
       "62.12230758384676"
      ]
     },
     "execution_count": 20,
     "metadata": {},
     "output_type": "execute_result"
    }
   ],
   "source": [
    "chars = list(set(data_raw))\n",
    "chars.sort()\n",
    "\n",
    "vocab_size = len(chars)\n",
    "ch_to_idx = {ch: i for i, ch in enumerate(chars)}\n",
    "idx_to_char = {i: ch for i, ch in enumerate(chars)}\n",
    "data = [ch_to_idx[ch] for ch in data_raw]\n",
    "parameters = initialize_parameters(hidden_size, vocab_size)\n",
    "start, end = 0, seq_length\n",
    "inputs = data[start:end]\n",
    "targets = data[start+1:end+1]\n",
    "loss, h, yhat, x = rnn_forward(inputs, targets, parameters, vocab_size, h_prev)\n",
    "\n",
    "gradients = rnn_backward(yhat, x, targets, h, parameters)\n",
    "\n",
    "gradients['W']\n",
    "loss\n"
   ]
  }
 ],
 "metadata": {
  "kernelspec": {
   "display_name": "Python 3",
   "language": "python",
   "name": "python3"
  },
  "language_info": {
   "codemirror_mode": {
    "name": "ipython",
    "version": 3
   },
   "file_extension": ".py",
   "mimetype": "text/x-python",
   "name": "python",
   "nbconvert_exporter": "python",
   "pygments_lexer": "ipython3",
   "version": "3.6.8"
  }
 },
 "nbformat": 4,
 "nbformat_minor": 2
}
